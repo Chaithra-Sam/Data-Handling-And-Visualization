{
  "nbformat": 4,
  "nbformat_minor": 0,
  "metadata": {
    "colab": {
      "provenance": [],
      "authorship_tag": "ABX9TyNV92dHI5iKJNdD52LzRA9S",
      "include_colab_link": true
    },
    "kernelspec": {
      "name": "python3",
      "display_name": "Python 3"
    },
    "language_info": {
      "name": "python"
    }
  },
  "cells": [
    {
      "cell_type": "markdown",
      "metadata": {
        "id": "view-in-github",
        "colab_type": "text"
      },
      "source": [
        "<a href=\"https://colab.research.google.com/github/Chaithra-Sam/Data-Handling-And-Visualization/blob/main/PANDA_SERIES.ipynb\" target=\"_parent\"><img src=\"https://colab.research.google.com/assets/colab-badge.svg\" alt=\"Open In Colab\"/></a>"
      ]
    },
    {
      "cell_type": "code",
      "execution_count": null,
      "metadata": {
        "id": "u1uwhOBlHyv5"
      },
      "outputs": [],
      "source": [
        "import pandas as pd"
      ]
    },
    {
      "cell_type": "code",
      "source": [
        "a=[1,7.2,2]\n",
        "b=pd.Series(a)\n",
        "print(b)"
      ],
      "metadata": {
        "colab": {
          "base_uri": "https://localhost:8080/"
        },
        "id": "jajOhjjoH9A7",
        "outputId": "306bae30-6a54-4cf2-fc8e-9c56c925e1c9"
      },
      "execution_count": null,
      "outputs": [
        {
          "output_type": "stream",
          "name": "stdout",
          "text": [
            "0    1.0\n",
            "1    7.2\n",
            "2    2.0\n",
            "dtype: float64\n"
          ]
        }
      ]
    },
    {
      "cell_type": "code",
      "source": [
        "print(b[0])"
      ],
      "metadata": {
        "colab": {
          "base_uri": "https://localhost:8080/"
        },
        "id": "QhXdzhhYIFUj",
        "outputId": "54af577c-48ad-42ce-f8cb-80c4cf819e37"
      },
      "execution_count": null,
      "outputs": [
        {
          "output_type": "stream",
          "name": "stdout",
          "text": [
            "1.0\n"
          ]
        }
      ]
    },
    {
      "cell_type": "code",
      "source": [
        "a=[1,7,2]\n",
        "b=pd.Series(a,index=[\"x\",\"y\",\"z\"])\n",
        "print(b)"
      ],
      "metadata": {
        "colab": {
          "base_uri": "https://localhost:8080/"
        },
        "id": "vuPFwDwiI9q7",
        "outputId": "95008d28-5023-418c-a108-eeae41934cf4"
      },
      "execution_count": null,
      "outputs": [
        {
          "output_type": "stream",
          "name": "stdout",
          "text": [
            "x    1\n",
            "y    7\n",
            "z    2\n",
            "dtype: int64\n"
          ]
        }
      ]
    },
    {
      "cell_type": "code",
      "source": [
        "print(b[\"y\"])"
      ],
      "metadata": {
        "colab": {
          "base_uri": "https://localhost:8080/"
        },
        "id": "TbGGzHmDI9m7",
        "outputId": "d01427ae-d062-4f8a-9540-24224d2327e2"
      },
      "execution_count": null,
      "outputs": [
        {
          "output_type": "stream",
          "name": "stdout",
          "text": [
            "7\n"
          ]
        }
      ]
    },
    {
      "cell_type": "code",
      "source": [
        "a={\"brand\":\"ford\",\"model\":\"mustang\",\"year\":1964}\n",
        "print(a)"
      ],
      "metadata": {
        "colab": {
          "base_uri": "https://localhost:8080/"
        },
        "id": "YO5lB7DWI9iT",
        "outputId": "7e2dc8ae-3d32-46a5-80fb-6ee4e833bd61"
      },
      "execution_count": null,
      "outputs": [
        {
          "output_type": "stream",
          "name": "stdout",
          "text": [
            "{'brand': 'ford', 'model': 'mustang', 'year': 1964}\n"
          ]
        }
      ]
    },
    {
      "cell_type": "code",
      "source": [
        "s1=pd.Series([-3,-1,1,3,5,'gaurav,7.3'])\n",
        "\n",
        "s1[:2]\n",
        "print(s1)\n",
        "print(s1[[2,1,0]])"
      ],
      "metadata": {
        "colab": {
          "base_uri": "https://localhost:8080/"
        },
        "id": "O8GB_4jH7iB-",
        "outputId": "03cc1d45-a6d4-43db-901e-1b5e19993737"
      },
      "execution_count": null,
      "outputs": [
        {
          "output_type": "stream",
          "name": "stdout",
          "text": [
            "0            -3\n",
            "1            -1\n",
            "2             1\n",
            "3             3\n",
            "4             5\n",
            "5    gaurav,7.3\n",
            "dtype: object\n",
            "2     1\n",
            "1    -1\n",
            "0    -3\n",
            "dtype: object\n"
          ]
        }
      ]
    }
  ]
}